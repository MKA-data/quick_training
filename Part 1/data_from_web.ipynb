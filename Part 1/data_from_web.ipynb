{
 "cells": [
  {
   "cell_type": "markdown",
   "metadata": {},
   "source": [
    "## Reading Data from a URL"
   ]
  },
  {
   "cell_type": "markdown",
   "metadata": {},
   "source": [
    "## Objectives\n",
    "\n",
    "\n",
    "<font size=4>\n",
    "\n",
    "    In this section, we would be \n",
    "\n",
    "        1. downloading a dataset (.zip) from a public website (https://archive.ics.uci.edu/ml/machine-learning-databases/00553/)\n",
    "\n",
    "        2. extracting the contents of the zip file. \n",
    "\n",
    "        3. saving the extracted csv file as an excel file.\n",
    "\n",
    "</font>"
   ]
  },
  {
   "cell_type": "markdown",
   "metadata": {},
   "source": [
    "### First Part - Download the data\n",
    "\n",
    "To do this, a python module called **requests** is required. Ideally, this should come with your installation. If not, it can be installed by running **!pip install requests** in a new cell."
   ]
  },
  {
   "cell_type": "code",
   "execution_count": null,
   "metadata": {},
   "outputs": [],
   "source": [
    "import requests"
   ]
  },
  {
   "cell_type": "code",
   "execution_count": null,
   "metadata": {},
   "outputs": [],
   "source": [
    "# Provide the web link to the data\n",
    "url = 'https://archive.ics.uci.edu/ml/machine-learning-databases/00553/e-shop data and description.zip'"
   ]
  },
  {
   "cell_type": "code",
   "execution_count": null,
   "metadata": {},
   "outputs": [],
   "source": [
    "#get the data to the computer memory\n",
    "r = requests.get(url)\n",
    "\n",
    "# save it as jamiu_url.zip\n",
    "open('jamiu_url.zip', 'wb').write(r.content)"
   ]
  },
  {
   "cell_type": "markdown",
   "metadata": {},
   "source": [
    "### Second Part - Unzip the downloaded file\n",
    "\n",
    "To do this, a python module called **zipfile** is required. Ideally, this should come with your installation. If not, it can be installed by running **!pip install zipfile** in a new cell."
   ]
  },
  {
   "cell_type": "code",
   "execution_count": null,
   "metadata": {},
   "outputs": [],
   "source": [
    "import zipfile"
   ]
  },
  {
   "cell_type": "code",
   "execution_count": null,
   "metadata": {},
   "outputs": [],
   "source": [
    "# read the data to a variable called contents\n",
    "contents = zipfile.ZipFile('jamiu_url.zip')\n",
    "\n",
    "# then extract all the files\n",
    "contents.extractall()"
   ]
  },
  {
   "cell_type": "markdown",
   "metadata": {},
   "source": [
    "Before we proceed to the last part of this exercise, let us look at the files in our working directory. To do that, we need a module called **os**. Ideally, this should come with your installation. If not, it can be installed by running **!pip install os** in a new cell."
   ]
  },
  {
   "cell_type": "code",
   "execution_count": null,
   "metadata": {},
   "outputs": [],
   "source": [
    "import os"
   ]
  },
  {
   "cell_type": "code",
   "execution_count": null,
   "metadata": {},
   "outputs": [],
   "source": [
    "#Now, we would use the function listdir() in os to list the contents of our working directory\n",
    "os.listdir()"
   ]
  },
  {
   "cell_type": "markdown",
   "metadata": {},
   "source": [
    "Also, let's have a look at the contents of the .txt file. This will give us some ideas on to open text files and read their contents line by line"
   ]
  },
  {
   "cell_type": "code",
   "execution_count": null,
   "metadata": {},
   "outputs": [],
   "source": [
    "file = open('e-shop clothing 2008 data description.txt')"
   ]
  },
  {
   "cell_type": "code",
   "execution_count": null,
   "metadata": {},
   "outputs": [],
   "source": [
    "lines = file.readlines()"
   ]
  },
  {
   "cell_type": "code",
   "execution_count": null,
   "metadata": {},
   "outputs": [],
   "source": [
    "lines"
   ]
  },
  {
   "cell_type": "markdown",
   "metadata": {},
   "source": [
    "### Note\n",
    "<font size=3>The '\\n' that we see everywhere is a newline character that we need to get rid of. To do that, we would use the replace method of strings</font>"
   ]
  },
  {
   "cell_type": "code",
   "execution_count": null,
   "metadata": {},
   "outputs": [],
   "source": [
    "# let's replace the \\n with empty space '' and overwrite the original lines\n",
    "lines = [item.replace('\\n', '') for item in lines] #this is called list comprehension\n",
    "#Now, let's see what lines looks like\n",
    "lines"
   ]
  },
  {
   "cell_type": "markdown",
   "metadata": {},
   "source": [
    "### Note\n",
    "<font size=3>The ' ' that we see everywhere is the empty space created by replacing the newline character in the previous step. We can use the same idea as before to overwrite lines but this time without the ' '.</font>"
   ]
  },
  {
   "cell_type": "code",
   "execution_count": null,
   "metadata": {},
   "outputs": [],
   "source": [
    "# use if statement to conditional remove '' from lines\n",
    "lines = [item for item in lines if item != '']\n",
    "#Finally, let's now see what lines look like\n",
    "lines"
   ]
  },
  {
   "cell_type": "markdown",
   "metadata": {},
   "source": [
    "### Last Part - save the .csv file as an excel file\n",
    "\n",
    "To do this, a python module called **pandas** is required. Ideally, this should come with your installation. If not, it can be installed by running **!pip install pandas** in a new cell."
   ]
  },
  {
   "cell_type": "code",
   "execution_count": null,
   "metadata": {},
   "outputs": [],
   "source": [
    "import pandas as pd"
   ]
  },
  {
   "cell_type": "code",
   "execution_count": null,
   "metadata": {},
   "outputs": [],
   "source": [
    "# use the read_csv function in pandas to load the csv file \n",
    "# and save it to a variable named data\n",
    "data = pd.read_csv('e-shop clothing 2008.csv')\n",
    "#Now take a look at the data\n",
    "data"
   ]
  },
  {
   "cell_type": "markdown",
   "metadata": {},
   "source": [
    "### Notes\n",
    "This is obviously not what we want. Let's repeat the data loading with read_csv but this time we would use the **sep** keyword to separate the data. Note that the data is separated by \";\". "
   ]
  },
  {
   "cell_type": "code",
   "execution_count": null,
   "metadata": {},
   "outputs": [],
   "source": [
    "# same as before but now including sep =\";\"\n",
    "data = pd.read_csv('e-shop clothing 2008.csv', sep=\";\")\n",
    "#Now take a look at the data\n",
    "data"
   ]
  },
  {
   "cell_type": "code",
   "execution_count": null,
   "metadata": {},
   "outputs": [],
   "source": [
    "# to check the entry at row 501 under country, use\n",
    "data.country[500]  # or data['country'][500]"
   ]
  },
  {
   "cell_type": "code",
   "execution_count": null,
   "metadata": {},
   "outputs": [],
   "source": [
    "# Finally, export the data as a .xlsx file without the index and starting from cell D3\n",
    "data.to_excel('jamiu_url.xlsx', index=False, startrow=2, startcol=3)"
   ]
  }
 ],
 "metadata": {
  "kernelspec": {
   "display_name": "Python 3",
   "language": "python",
   "name": "python3"
  },
  "language_info": {
   "codemirror_mode": {
    "name": "ipython",
    "version": 3
   },
   "file_extension": ".py",
   "mimetype": "text/x-python",
   "name": "python",
   "nbconvert_exporter": "python",
   "pygments_lexer": "ipython3",
   "version": "3.7.4"
  }
 },
 "nbformat": 4,
 "nbformat_minor": 2
}
